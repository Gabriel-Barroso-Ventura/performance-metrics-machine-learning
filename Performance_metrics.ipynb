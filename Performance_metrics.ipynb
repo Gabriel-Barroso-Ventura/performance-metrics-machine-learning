{
  "nbformat": 4,
  "nbformat_minor": 0,
  "metadata": {
    "colab": {
      "provenance": [],
      "authorship_tag": "ABX9TyOk43ajd4jKNZzqEfn+quxq",
      "include_colab_link": true
    },
    "kernelspec": {
      "name": "python3",
      "display_name": "Python 3"
    },
    "language_info": {
      "name": "python"
    }
  },
  "cells": [
    {
      "cell_type": "markdown",
      "metadata": {
        "id": "view-in-github",
        "colab_type": "text"
      },
      "source": [
        "<a href=\"https://colab.research.google.com/github/Gabriel-Barroso-Ventura/performance-metrics-machine-learning/blob/main/Performance_metrics.ipynb\" target=\"_parent\"><img src=\"https://colab.research.google.com/assets/colab-badge.svg\" alt=\"Open In Colab\"/></a>"
      ]
    },
    {
      "cell_type": "markdown",
      "source": [
        "# **Performance Metrics for the Machile Learning Processes**"
      ],
      "metadata": {
        "id": "-rbeIw05qpI0"
      }
    },
    {
      "cell_type": "markdown",
      "source": [
        "After the finish of machine learning process we need to use performance metrics to determine if we achieve what we intended for.\n",
        "\n"
      ],
      "metadata": {
        "id": "oxPQwE-cq0_B"
      }
    },
    {
      "cell_type": "code",
      "execution_count": 2,
      "metadata": {
        "colab": {
          "base_uri": "https://localhost:8080/"
        },
        "id": "PNXjE2Hmp4mB",
        "outputId": "c9e312ef-3974-4669-96ac-a0a7f25da5d7"
      },
      "outputs": [
        {
          "output_type": "stream",
          "name": "stdout",
          "text": [
            "Digite os valores para a matriz de confusão:\n",
            "Verdadeiros Positivos (VP): 50\n",
            "Falsos Positivos (FP): 40\n",
            "Verdadeiros Negativos (VN): 10\n",
            "Falsos Negativos (FN): 5\n",
            "\n",
            "Matriz de Confusão:\n",
            "[[50  5]\n",
            " [40 10]]\n",
            "\n",
            "Métricas calculadas:\n",
            "Sensibilidade: 0.91\n",
            "Especificidade: 0.20\n",
            "Acurácia: 0.57\n",
            "Precisão: 0.56\n",
            "F-Score: 0.69\n"
          ]
        }
      ],
      "source": [
        "import numpy as np\n",
        "\n",
        "def gerar_matriz_confusao(vp, fp, vn, fn):\n",
        "    return np.array([[vp, fn], [fp, vn]])\n",
        "\n",
        "def calcular_metricas(matriz_confusao):\n",
        "    # Extrair valores da matriz de confusão\n",
        "    vp = matriz_confusao[0, 0]  # Verdadeiros positivos\n",
        "    vn = matriz_confusao[1, 1]  # Verdadeiros negativos\n",
        "    fp = matriz_confusao[1, 0]  # Falsos positivos\n",
        "    fn = matriz_confusao[0, 1]  # Falsos negativos\n",
        "\n",
        "    # Sensibilidade (Recall)\n",
        "    sensibilidade = vp / (vp + fn) if (vp + fn) > 0 else 0\n",
        "\n",
        "    # Especificidade\n",
        "    especificidade = vn / (fp + vn) if (fp + vn) > 0 else 0\n",
        "\n",
        "    # Acurácia\n",
        "    total = vp + vn + fp + fn\n",
        "    acuracia = (vp + vn) / total if total > 0 else 0\n",
        "\n",
        "    # Precisão\n",
        "    precisao = vp / (vp + fp) if (vp + fp) > 0 else 0\n",
        "\n",
        "    # F-Score\n",
        "    f_score = (2 * precisao * sensibilidade) / (precisao + sensibilidade) if (precisao + sensibilidade) > 0 else 0\n",
        "\n",
        "    return {\n",
        "        \"Sensibilidade\": sensibilidade,\n",
        "        \"Especificidade\": especificidade,\n",
        "        \"Acurácia\": acuracia,\n",
        "        \"Precisão\": precisao,\n",
        "        \"F-Score\": f_score\n",
        "    }\n",
        "\n",
        "# Receber valores de VP, FP, VN, FN do usuário\n",
        "print(\"Digite os valores para a matriz de confusão:\")\n",
        "vp = int(input(\"Verdadeiros Positivos (VP): \"))\n",
        "fp = int(input(\"Falsos Positivos (FP): \"))\n",
        "vn = int(input(\"Verdadeiros Negativos (VN): \"))\n",
        "fn = int(input(\"Falsos Negativos (FN): \"))\n",
        "\n",
        "# Gerar matriz de confusão\n",
        "matriz_confusao = gerar_matriz_confusao(vp, fp, vn, fn)\n",
        "print(\"\\nMatriz de Confusão:\")\n",
        "print(matriz_confusao)\n",
        "\n",
        "# Calcular métricas\n",
        "metricas = calcular_metricas(matriz_confusao)\n",
        "\n",
        "# Exibir resultados\n",
        "print(\"\\nMétricas calculadas:\")\n",
        "for metrica, valor in metricas.items():\n",
        "    print(f\"{metrica}: {valor:.2f}\")"
      ]
    }
  ]
}